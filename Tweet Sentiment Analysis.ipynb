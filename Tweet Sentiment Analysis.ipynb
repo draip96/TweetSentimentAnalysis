{
 "cells": [
  {
   "cell_type": "markdown",
   "id": "b53d9b6a",
   "metadata": {},
   "source": [
    "# Sentiment Analysis of Tweets"
   ]
  },
  {
   "cell_type": "markdown",
   "id": "28fa8db8",
   "metadata": {},
   "source": [
    "## Getting and Cleaning Data\n",
    "\n",
    "Opening the csv data, removing all links and usernames"
   ]
  },
  {
   "cell_type": "code",
   "execution_count": 1,
   "id": "d0d6745f",
   "metadata": {},
   "outputs": [],
   "source": [
    "import torch\n",
    "import csv\n",
    "import random\n",
    "import numpy as np\n"
   ]
  },
  {
   "cell_type": "code",
   "execution_count": 2,
   "id": "a166c282",
   "metadata": {},
   "outputs": [],
   "source": [
    "LINK_TOKEN = \"!LIS\"\n",
    "USER_TOKEN = \"!UIS\"\n",
    "QUOTE_TOKEN = \"!QIS\"\n",
    "def cleanData(data):\n",
    "    tweets = []\n",
    "    for tweet in data:\n",
    "        tw = \"\"\n",
    "        tweet = tweet.replace(\"&quot;\", \" !QIS \")\n",
    "        for word in tweet.split():\n",
    "            if word.startswith(\"@\"):\n",
    "                word = USER_TOKEN\n",
    "            elif word.startswith(\"http\"):\n",
    "                word = LINK_TOKEN\n",
    "            tw = tw + word + \" \"\n",
    "        tw = tw.strip()\n",
    "        tweets.append(tw)\n",
    "    return tweets"
   ]
  },
  {
   "cell_type": "code",
   "execution_count": 3,
   "id": "9cadbdfc",
   "metadata": {},
   "outputs": [],
   "source": [
    "def getData(path):\n",
    "\n",
    "    with open(path, newline='') as csvfile:\n",
    "        reader = csv.reader(csvfile, delimiter=',', quotechar='|')\n",
    "        tweets = []\n",
    "        labels = []\n",
    "        for row in reader:\n",
    "            labels.append(int(row[0].strip(\"\\\"\"))/4)\n",
    "            tweet = \"\".join(row[5:]).strip(\"\\\"\\''\")\n",
    "            tweets.append(tweet.strip())\n",
    "        return tweets, labels\n"
   ]
  },
  {
   "cell_type": "code",
   "execution_count": 4,
   "id": "ed3edca7",
   "metadata": {},
   "outputs": [],
   "source": [
    "data, labels = getData('data/tweets.csv')"
   ]
  },
  {
   "cell_type": "code",
   "execution_count": 5,
   "id": "ff665131",
   "metadata": {},
   "outputs": [
    {
     "data": {
      "text/plain": [
       "\"@switchfoot http://twitpic.com/2y1zl - Awww that's a bummer.  You shoulda got David Carr of Third Day to do it. ;D\""
      ]
     },
     "execution_count": 5,
     "metadata": {},
     "output_type": "execute_result"
    }
   ],
   "source": [
    "data[0]"
   ]
  },
  {
   "cell_type": "markdown",
   "id": "5be55376",
   "metadata": {},
   "source": [
    "## Data\n",
    "\n",
    "Trainset will be 160000 tweets (80000 Positive, 80000 Negative)\n",
    "\n",
    "Testset will be 40000 tweets (20000 Positive, 20000 Negative)"
   ]
  },
  {
   "cell_type": "code",
   "execution_count": 6,
   "id": "e8f2167a",
   "metadata": {
    "scrolled": true
   },
   "outputs": [
    {
     "data": {
      "text/plain": [
       "1600000"
      ]
     },
     "execution_count": 6,
     "metadata": {},
     "output_type": "execute_result"
    }
   ],
   "source": [
    "len(data)"
   ]
  },
  {
   "cell_type": "code",
   "execution_count": 7,
   "id": "854b31ad",
   "metadata": {},
   "outputs": [],
   "source": [
    "pos_train = []\n",
    "neg_train = []\n",
    "\n",
    "pos_labels = []\n",
    "neg_labels = []\n",
    "\n",
    "for i in range(0,len(data)):\n",
    "    if i % 8 == 0:\n",
    "        if labels[i]  == 0:\n",
    "            neg_train.append(data[i])       \n",
    "        if labels[i]  == 1:\n",
    "            pos_train.append(data[i])\n",
    "            "
   ]
  },
  {
   "cell_type": "code",
   "execution_count": 8,
   "id": "f763d861",
   "metadata": {
    "scrolled": true
   },
   "outputs": [],
   "source": [
    "pos_train = cleanData(pos_train)\n",
    "neg_train = cleanData(neg_train)"
   ]
  },
  {
   "cell_type": "code",
   "execution_count": 9,
   "id": "2d3dcb90",
   "metadata": {},
   "outputs": [
    {
     "name": "stdout",
     "output_type": "stream",
     "text": [
      "100000\n",
      "100000\n"
     ]
    }
   ],
   "source": [
    "print(len(pos_train))\n",
    "print(len(neg_train))"
   ]
  },
  {
   "cell_type": "code",
   "execution_count": 10,
   "id": "5aa12425",
   "metadata": {},
   "outputs": [],
   "source": [
    "# Test set\n",
    "\n",
    "pos_test = pos_train[80000:]\n",
    "neg_test = neg_train[80000:]\n",
    "\n",
    "pos_train = pos_train[:80000]\n",
    "neg_train = neg_train[:80000]"
   ]
  },
  {
   "cell_type": "code",
   "execution_count": 11,
   "id": "9f724f64",
   "metadata": {},
   "outputs": [
    {
     "name": "stdout",
     "output_type": "stream",
     "text": [
      "80000\n",
      "80000\n",
      "20000\n",
      "20000\n"
     ]
    }
   ],
   "source": [
    "print(len(pos_train))\n",
    "print(len(neg_train))\n",
    "\n",
    "print(len(pos_test))\n",
    "print(len(neg_test))"
   ]
  },
  {
   "cell_type": "markdown",
   "id": "034a099c",
   "metadata": {},
   "source": [
    "## Creating Tokenizer and Vocabulary\n",
    "\n",
    "Building the vocabulary using the dataset, preparing data for  training"
   ]
  },
  {
   "cell_type": "code",
   "execution_count": 12,
   "id": "6a4dcd99",
   "metadata": {},
   "outputs": [],
   "source": [
    "train_iter = []\n",
    "for i in pos_train:\n",
    "    train_iter.append((1, i))\n",
    "for i in neg_train:\n",
    "    train_iter.append((0, i))"
   ]
  },
  {
   "cell_type": "code",
   "execution_count": 13,
   "id": "8bf8e5f2",
   "metadata": {},
   "outputs": [],
   "source": [
    "test_iter = []\n",
    "for i in pos_test:\n",
    "    test_iter.append((1, i))\n",
    "for i in neg_test:\n",
    "    test_iter.append((0, i))"
   ]
  },
  {
   "cell_type": "code",
   "execution_count": 14,
   "id": "49bbb6bd",
   "metadata": {},
   "outputs": [],
   "source": [
    "from torchtext.data.utils import get_tokenizer\n",
    "from torchtext.vocab import build_vocab_from_iterator\n",
    "\n",
    "tokenizer = get_tokenizer('basic_english')\n",
    "def yield_tokens(data_iter):\n",
    "    for _, text in data_iter:\n",
    "        yield tokenizer(text)\n",
    "\n",
    "vocab = build_vocab_from_iterator(yield_tokens(train_iter)\n",
    "                                  , specials=[\"<unk>\"])\n",
    "vocab.set_default_index(vocab[\"<unk>\"])"
   ]
  },
  {
   "cell_type": "code",
   "execution_count": 15,
   "id": "6655eee9",
   "metadata": {},
   "outputs": [],
   "source": [
    "text_pipeline = lambda x: vocab(tokenizer(x))\n"
   ]
  },
  {
   "cell_type": "code",
   "execution_count": 16,
   "id": "10809c31",
   "metadata": {},
   "outputs": [
    {
     "data": {
      "text/plain": [
       "[98, 14, 7, 105, 3953]"
      ]
     },
     "execution_count": 16,
     "metadata": {},
     "output_type": "execute_result"
    }
   ],
   "source": [
    "text_pipeline('here is the an example')"
   ]
  },
  {
   "cell_type": "code",
   "execution_count": 17,
   "id": "8a980cba",
   "metadata": {},
   "outputs": [],
   "source": [
    "from torch.utils.data import DataLoader\n",
    "device = torch.device(\"cuda\" if torch.cuda.is_available() else \"cpu\")\n",
    "\n",
    "def collate_batch(batch):\n",
    "    label_list, text_list, offsets= [], [], [0]\n",
    "    for (_label, _text) in batch:\n",
    "         label_list.append(_label)\n",
    "         processed_text = torch.tensor(text_pipeline(_text), dtype=torch.int64)\n",
    "         text_list.append(processed_text)\n",
    "         offsets.append(processed_text.size(0))\n",
    "    label_list = torch.tensor(label_list, dtype=torch.float)\n",
    "    offsets = torch.tensor(offsets[:-1]).cumsum(dim=0)\n",
    "    text_list = torch.cat(text_list)\n",
    "    return label_list.to(device), text_list.to(device), offsets.to(device)\n",
    "\n",
    "dataloader = DataLoader(train_iter, batch_size=64, shuffle=True, collate_fn=collate_batch)\n",
    "test_dataloader = DataLoader(test_iter, batch_size=64, shuffle=True, collate_fn=collate_batch)"
   ]
  },
  {
   "cell_type": "code",
   "execution_count": 18,
   "id": "7dc87981",
   "metadata": {},
   "outputs": [
    {
     "name": "stdout",
     "output_type": "stream",
     "text": [
      "2500\n",
      "625\n"
     ]
    }
   ],
   "source": [
    "print(len(dataloader))\n",
    "print(len(test_dataloader))"
   ]
  },
  {
   "cell_type": "markdown",
   "id": "3d4f20b5",
   "metadata": {},
   "source": [
    "# Building Model"
   ]
  },
  {
   "cell_type": "code",
   "execution_count": 19,
   "id": "03a0d682",
   "metadata": {},
   "outputs": [],
   "source": [
    "from torch import nn\n",
    "class SentimentAnalysis(nn.Module):\n",
    "    def __init__(self, vocab_size, embed_dim):\n",
    "        super(SentimentAnalysis, self).__init__()\n",
    "        self.hidden_size=embed_dim\n",
    "        self.embeddings = nn.EmbeddingBag(vocab_size, embed_dim)\n",
    "        self.lstm = nn.LSTM(embed_dim, embed_dim, 1)\n",
    "        self.lstm2 = nn.LSTM(embed_dim, embed_dim, 1)\n",
    "        self.fc = nn.Linear(embed_dim, 128)\n",
    "        self.fc2 = nn.Linear(128, 1)\n",
    "        \n",
    "        \n",
    "        self.softmax = nn.Sigmoid()\n",
    "\n",
    "        self.init_weights()\n",
    "    \n",
    "        \n",
    "    def init_weights(self):\n",
    "        initrange = 0.5\n",
    "        self.embeddings.weight.data.uniform_(-initrange, initrange)\n",
    "        self.fc.weight.data.uniform_(-initrange, initrange)\n",
    "        self.fc.bias.data.zero_()\n",
    "    \n",
    "        \n",
    "    def forward(self, x, offset):\n",
    "        embeds = self.embeddings(x, offset)\n",
    "        lstm, _ = self.lstm(embeds)\n",
    "        lstm, _ = self.lstm2(lstm)\n",
    "        outs = self.fc(lstm)\n",
    "        outs = self.fc2(outs)\n",
    "        outs = self.softmax(outs)\n",
    "        return outs"
   ]
  },
  {
   "cell_type": "code",
   "execution_count": 20,
   "id": "e392870b",
   "metadata": {},
   "outputs": [
    {
     "data": {
      "text/plain": [
       "SentimentAnalysis(\n",
       "  (embeddings): EmbeddingBag(82807, 256, mode=mean)\n",
       "  (lstm): LSTM(256, 256)\n",
       "  (lstm2): LSTM(256, 256)\n",
       "  (fc): Linear(in_features=256, out_features=128, bias=True)\n",
       "  (fc2): Linear(in_features=128, out_features=1, bias=True)\n",
       "  (softmax): Sigmoid()\n",
       ")"
      ]
     },
     "execution_count": 20,
     "metadata": {},
     "output_type": "execute_result"
    }
   ],
   "source": [
    "net = SentimentAnalysis(len(vocab), 256).to(device)\n",
    "net"
   ]
  },
  {
   "cell_type": "markdown",
   "id": "e5476d43",
   "metadata": {},
   "source": [
    "# Training"
   ]
  },
  {
   "cell_type": "code",
   "execution_count": 21,
   "id": "7b652ed7",
   "metadata": {},
   "outputs": [],
   "source": [
    "import time\n",
    "import math\n",
    "\n",
    "def timeSince(since):\n",
    "    now = time.time()\n",
    "    s = now - since\n",
    "    m = math.floor(s / 60)\n",
    "    s -= m * 60\n",
    "    return '%dm %ds' % (m, s)"
   ]
  },
  {
   "cell_type": "code",
   "execution_count": 22,
   "id": "ca818afe",
   "metadata": {},
   "outputs": [],
   "source": [
    "import time\n",
    "def train(dataloader, model, optimizer, criterion):\n",
    "    model.train()\n",
    "\n",
    "    for idx, (label, input, offsets) in enumerate(dataloader):\n",
    "        total_acc, total_count= 0,0\n",
    "        optimizer.zero_grad()\n",
    "        prediction = model(input, offsets)\n",
    "        loss = criterion(prediction.squeeze(1), label)\n",
    "        loss.backward()   \n",
    "        torch.nn.utils.clip_grad_norm_(model.parameters(), 0.1)\n",
    "        optimizer.step()\n",
    "        total_acc += (prediction.round().squeeze(1) == label).sum().item()\n",
    "        total_count += label.size(0)\n",
    "        if idx % 500 == 0:\n",
    "            print(\"Loss: {:.4f} Accuracy: {:.2f}\".format(loss, 100*(total_acc/total_count)))\n"
   ]
  },
  {
   "cell_type": "code",
   "execution_count": 23,
   "id": "9da0ee97",
   "metadata": {},
   "outputs": [],
   "source": [
    "losses = []\n",
    "def test(dataloader, model, criterion):\n",
    "    model.eval()\n",
    "    size = len(dataloader.dataset)\n",
    "    num_batches = len(dataloader)\n",
    "    test_loss, total_acc = 0, 0\n",
    "    with torch.no_grad():\n",
    "        for idx, (label, input, offsets) in enumerate(dataloader):\n",
    "            prediction = model(input, offsets)\n",
    "            test_loss += criterion(prediction.squeeze(1), label)\n",
    "            total_acc += (prediction.round().squeeze(1) == label).sum().item()\n",
    "            \n",
    "    test_loss /= num_batches\n",
    "    total_acc /= size\n",
    "    losses.append(test_loss.item())\n",
    "    print(f\"Test Error: \\n  Accuracy: {(100*total_acc):>0.1f}%, Avg loss: {test_loss:>8f} \\n\")\n",
    "  "
   ]
  },
  {
   "cell_type": "code",
   "execution_count": 24,
   "id": "cb03ee46",
   "metadata": {},
   "outputs": [],
   "source": [
    "optimizer = torch.optim.SGD(net.parameters(), lr=5)\n",
    "\n",
    "criterion = torch.nn.BCELoss()"
   ]
  },
  {
   "cell_type": "code",
   "execution_count": 25,
   "id": "ca6094ed",
   "metadata": {
    "scrolled": true
   },
   "outputs": [
    {
     "name": "stdout",
     "output_type": "stream",
     "text": [
      "Epoch 1\n",
      "-------------------------------\n",
      "Loss: 0.6979 Accuracy: 46.88\n",
      "Loss: 0.5368 Accuracy: 68.75\n",
      "Loss: 0.6209 Accuracy: 64.06\n",
      "Loss: 0.4138 Accuracy: 82.81\n",
      "Loss: 0.4715 Accuracy: 76.56\n",
      "Test Error: \n",
      "  Accuracy: 73.7%, Avg loss: 0.532437 \n",
      "\n",
      "Epoch 2\n",
      "-------------------------------\n",
      "Loss: 0.4845 Accuracy: 81.25\n",
      "Loss: 0.4854 Accuracy: 82.81\n",
      "Loss: 0.5224 Accuracy: 68.75\n",
      "Loss: 0.6426 Accuracy: 64.06\n",
      "Loss: 0.3883 Accuracy: 82.81\n",
      "Test Error: \n",
      "  Accuracy: 76.7%, Avg loss: 0.506275 \n",
      "\n",
      "Epoch 3\n",
      "-------------------------------\n",
      "Loss: 0.4209 Accuracy: 81.25\n",
      "Loss: 0.4156 Accuracy: 81.25\n",
      "Loss: 0.4820 Accuracy: 84.38\n",
      "Loss: 0.4159 Accuracy: 78.12\n",
      "Loss: 0.3741 Accuracy: 78.12\n",
      "Test Error: \n",
      "  Accuracy: 76.3%, Avg loss: 0.497748 \n",
      "\n",
      "Epoch 4\n",
      "-------------------------------\n",
      "Loss: 0.4569 Accuracy: 81.25\n",
      "Loss: 0.3940 Accuracy: 84.38\n",
      "Loss: 0.4673 Accuracy: 79.69\n",
      "Loss: 0.3957 Accuracy: 79.69\n",
      "Loss: 0.3482 Accuracy: 84.38\n",
      "Test Error: \n",
      "  Accuracy: 78.2%, Avg loss: 0.474835 \n",
      "\n",
      "Epoch 5\n",
      "-------------------------------\n",
      "Loss: 0.4281 Accuracy: 76.56\n",
      "Loss: 0.4566 Accuracy: 75.00\n",
      "Loss: 0.5080 Accuracy: 76.56\n",
      "Loss: 0.4197 Accuracy: 84.38\n",
      "Loss: 0.4287 Accuracy: 76.56\n",
      "Test Error: \n",
      "  Accuracy: 78.3%, Avg loss: 0.479734 \n",
      "\n",
      "Epoch 6\n",
      "-------------------------------\n",
      "Loss: 0.4090 Accuracy: 79.69\n",
      "Loss: 0.5568 Accuracy: 73.44\n",
      "Loss: 0.3043 Accuracy: 85.94\n",
      "Loss: 0.4611 Accuracy: 78.12\n",
      "Loss: 0.5493 Accuracy: 76.56\n",
      "Test Error: \n",
      "  Accuracy: 78.2%, Avg loss: 0.478787 \n",
      "\n",
      "Epoch 7\n",
      "-------------------------------\n",
      "Loss: 0.4300 Accuracy: 76.56\n",
      "Loss: 0.4910 Accuracy: 75.00\n",
      "Loss: 0.2683 Accuracy: 87.50\n",
      "Loss: 0.5392 Accuracy: 75.00\n",
      "Loss: 0.4364 Accuracy: 79.69\n",
      "Test Error: \n",
      "  Accuracy: 78.1%, Avg loss: 0.487784 \n",
      "\n",
      "Epoch 8\n",
      "-------------------------------\n",
      "Loss: 0.4229 Accuracy: 76.56\n",
      "Loss: 0.3954 Accuracy: 82.81\n",
      "Loss: 0.4008 Accuracy: 84.38\n",
      "Loss: 0.4377 Accuracy: 82.81\n",
      "Loss: 0.5313 Accuracy: 73.44\n",
      "Test Error: \n",
      "  Accuracy: 78.2%, Avg loss: 0.493263 \n",
      "\n",
      "Epoch 9\n",
      "-------------------------------\n",
      "Loss: 0.3736 Accuracy: 85.94\n",
      "Loss: 0.3148 Accuracy: 87.50\n",
      "Loss: 0.3734 Accuracy: 85.94\n",
      "Loss: 0.4877 Accuracy: 76.56\n",
      "Loss: 0.3128 Accuracy: 90.62\n",
      "Test Error: \n",
      "  Accuracy: 78.8%, Avg loss: 0.458417 \n",
      "\n",
      "Epoch 10\n",
      "-------------------------------\n",
      "Loss: 0.3594 Accuracy: 87.50\n",
      "Loss: 0.4583 Accuracy: 73.44\n",
      "Loss: 0.4389 Accuracy: 82.81\n",
      "Loss: 0.4178 Accuracy: 81.25\n",
      "Loss: 0.3831 Accuracy: 82.81\n",
      "Test Error: \n",
      "  Accuracy: 78.4%, Avg loss: 0.485823 \n",
      "\n",
      "Done!\n",
      "Total =  5m 48s\n"
     ]
    }
   ],
   "source": [
    "start = time.time()\n",
    "epochs = 10\n",
    "for t in range(epochs):\n",
    "    print(f\"Epoch {t+1}\\n-------------------------------\")\n",
    "    train(dataloader, net, optimizer, criterion)\n",
    "    test(test_dataloader, net, criterion)\n",
    "print(\"Done!\")\n",
    "print(\"Total = \", timeSince(start))\n"
   ]
  },
  {
   "cell_type": "code",
   "execution_count": 26,
   "id": "3e1a0206",
   "metadata": {},
   "outputs": [],
   "source": [
    "torch.save(net.state_dict(), \"./data/Sent.pth\")"
   ]
  },
  {
   "cell_type": "code",
   "execution_count": 27,
   "id": "f676e275",
   "metadata": {},
   "outputs": [],
   "source": [
    "import matplotlib.pyplot as plt\n",
    "import os\n",
    "\n",
    "os.environ['KMP_DUPLICATE_LIB_OK']='True'"
   ]
  },
  {
   "cell_type": "code",
   "execution_count": 28,
   "id": "e3c00bb6",
   "metadata": {
    "scrolled": true
   },
   "outputs": [
    {
     "data": {
      "image/png": "[encoded data removed]",
      "text/plain": [
       "<Figure size 432x288 with 1 Axes>"
      ]
     },
     "metadata": {
      "needs_background": "light"
     },
     "output_type": "display_data"
    }
   ],
   "source": [
    "plt.plot(losses)\n",
    "plt.show()"
   ]
  },
  {
   "cell_type": "markdown",
   "id": "67fb3117",
   "metadata": {},
   "source": [
    "# Making Predictions"
   ]
  },
  {
   "cell_type": "code",
   "execution_count": 29,
   "id": "78a5f286",
   "metadata": {},
   "outputs": [],
   "source": [
    "def predict(text):\n",
    "    text = torch.tensor(text_pipeline(text))    \n",
    "    offsets = torch.tensor(text.size(0)).unsqueeze(0)\n",
    "    pred = net(text.to(device), offsets.to(device))\n",
    "    if pred.round().squeeze(1) == 0:\n",
    "        print(\"Negative\", round(pred.item(), 3))\n",
    "    else:\n",
    "        print(\"Positive\", round(pred.item(), 3))\n",
    "    "
   ]
  },
  {
   "cell_type": "code",
   "execution_count": 30,
   "id": "94a0b000",
   "metadata": {},
   "outputs": [],
   "source": [
    "text = torch.tensor(text_pipeline(\"hello there kid\"))    \n",
    "text.shape\n",
    "offsets = torch.tensor(text.size(0)).unsqueeze(0)"
   ]
  },
  {
   "cell_type": "code",
   "execution_count": 31,
   "id": "1a59b65d",
   "metadata": {
    "scrolled": true
   },
   "outputs": [
    {
     "name": "stdout",
     "output_type": "stream",
     "text": [
      "Positive 0.993\n"
     ]
    }
   ],
   "source": [
    "predict(\"I'm having a wonderful day\")"
   ]
  },
  {
   "cell_type": "code",
   "execution_count": 32,
   "id": "9550901c",
   "metadata": {},
   "outputs": [
    {
     "name": "stdout",
     "output_type": "stream",
     "text": [
      "Negative 0.003\n"
     ]
    }
   ],
   "source": [
    "predict(\"I'm having an awful day\")"
   ]
  },
  {
   "cell_type": "code",
   "execution_count": 33,
   "id": "a89fc9c8",
   "metadata": {},
   "outputs": [
    {
     "name": "stdout",
     "output_type": "stream",
     "text": [
      "Positive 0.999\n"
     ]
    }
   ],
   "source": [
    "predict(\"Love is in the air tonight\")"
   ]
  },
  {
   "cell_type": "code",
   "execution_count": 34,
   "id": "dbabb6dc",
   "metadata": {},
   "outputs": [
    {
     "name": "stdout",
     "output_type": "stream",
     "text": [
      "Negative 0.019\n"
     ]
    }
   ],
   "source": [
    "predict(\"The steak at that restaurant is the worst\")"
   ]
  },
  {
   "cell_type": "code",
   "execution_count": 35,
   "id": "828236fc",
   "metadata": {},
   "outputs": [
    {
     "name": "stdout",
     "output_type": "stream",
     "text": [
      "Positive 0.818\n"
     ]
    }
   ],
   "source": [
    "predict(\"That was a beautiful movie but the story was mediocre\")"
   ]
  },
  {
   "cell_type": "code",
   "execution_count": 36,
   "id": "2aaf776d",
   "metadata": {},
   "outputs": [
    {
     "name": "stdout",
     "output_type": "stream",
     "text": [
      "Negative 0.24\n"
     ]
    }
   ],
   "source": [
    "predict(\"That test this morning was so hard, I must've bombed it!\")\n"
   ]
  },
  {
   "cell_type": "code",
   "execution_count": null,
   "id": "1ad27676",
   "metadata": {},
   "outputs": [],
   "source": []
  }
 ],
 "metadata": {
  "kernelspec": {
   "display_name": "Python 3 (ipykernel)",
   "language": "python",
   "name": "python3"
  },
  "language_info": {
   "codemirror_mode": {
    "name": "ipython",
    "version": 3
   },
   "file_extension": ".py",
   "mimetype": "text/x-python",
   "name": "python",
   "nbconvert_exporter": "python",
   "pygments_lexer": "ipython3",
   "version": "3.9.13"
  }
 },
 "nbformat": 4,
 "nbformat_minor": 5
}
